{
  "nbformat": 4,
  "nbformat_minor": 0,
  "metadata": {
    "colab": {
      "provenance": [],
      "include_colab_link": true
    },
    "kernelspec": {
      "name": "python3",
      "display_name": "Python 3"
    },
    "language_info": {
      "name": "python"
    }
  },
  "cells": [
    {
      "cell_type": "markdown",
      "metadata": {
        "id": "view-in-github",
        "colab_type": "text"
      },
      "source": [
        "<a href=\"https://colab.research.google.com/github/nikshargithub/C-Programs/blob/main/2024_01_21_NIKHIL_SHARMA_PROJECT_84.ipynb\" target=\"_parent\"><img src=\"https://colab.research.google.com/assets/colab-badge.svg\" alt=\"Open In Colab\"/></a>"
      ]
    },
    {
      "cell_type": "markdown",
      "metadata": {
        "id": "erYQyGJOT0Ya"
      },
      "source": [
        "### Instructions"
      ]
    },
    {
      "cell_type": "markdown",
      "metadata": {
        "id": "bEyBzxYRhrLG"
      },
      "source": [
        "#### Goal of the Project\n",
        "This project is designed for you to practice and solve the activities that are based on the concepts covered in the lesson:\n",
        "\n",
        "- Support Vector Machines - Hyperplane Visualisation I\n",
        "\n",
        "- Support Vector Machines - Hyperplane Visualisation II"
      ]
    },
    {
      "cell_type": "markdown",
      "metadata": {
        "id": "pIrCR0_QMp18"
      },
      "source": [
        "---"
      ]
    },
    {
      "cell_type": "markdown",
      "metadata": {
        "id": "oHEruqrlZewu"
      },
      "source": [
        "#### Problem Statement\n",
        "\n",
        "In this project, you are going to revise the lesson by scatter plots using different parameters.\n"
      ]
    },
    {
      "cell_type": "markdown",
      "metadata": {
        "id": "qIVNEyp4Mrem"
      },
      "source": [
        "---"
      ]
    },
    {
      "cell_type": "markdown",
      "metadata": {
        "id": "xBqnPkpftDXI"
      },
      "source": [
        "#### Getting Started:\n",
        "\n",
        "1. Follow the next 3 steps to create a copy of this colab file and start working on the project.  \n",
        "\n",
        "2. Create a duplicate copy of the Colab file as described below.\n",
        "\n",
        "  - Click on the **File menu**. A new drop-down list will appear.\n",
        "\n",
        "   <img src='https://student-datasets-bucket.s3.ap-south-1.amazonaws.com/images/lesson-0/0_file_menu.png' width=500>\n",
        "\n",
        "  - Click on the **Save a copy in Drive** option. A duplicate copy will get created. It will open up in the new tab on your web browser.\n",
        "\n",
        "  <img src='https://student-datasets-bucket.s3.ap-south-1.amazonaws.com/images/lesson-0/1_create_colab_duplicate_copy.png' width=500>\n",
        "\n",
        "3. After creating the duplicate copy of the notebook, please rename it in the **YYYY-MM-DD_StudentName_Project84** format.\n",
        "\n",
        "4. Now, write your code in the prescribed code cells.\n"
      ]
    },
    {
      "cell_type": "markdown",
      "metadata": {
        "id": "Z3mrsbk2c98N"
      },
      "source": [
        "---"
      ]
    },
    {
      "cell_type": "markdown",
      "metadata": {
        "id": "K-elDvhbnJsG"
      },
      "source": [
        "### Activities\n",
        "\n",
        "\n",
        "**Activity 1:** Scatter Plot 1\n",
        "\n",
        "**Activity 2:** Scatter Plot 2\n",
        "\n",
        "**Activity 3:** Scatter Plot 3"
      ]
    },
    {
      "cell_type": "markdown",
      "metadata": {
        "id": "NLrjBf_WEvVz"
      },
      "source": [
        "---"
      ]
    },
    {
      "cell_type": "markdown",
      "metadata": {
        "id": "VLusG2_I6mcY"
      },
      "source": [
        "#### Activity 1: Scatter Plot 1\n",
        "\n",
        "In this acitivity you have to create a scatter plot with 10 random numbers arrays at the x-axis and y-axis. Add different values to size and colour the markers manually by creating arrays.\n",
        "\n",
        "**Steps:**\n",
        "1. Create an array `x` of 10 random integers between 1-100 for the X-axis.\n",
        "2.Create an array `y` of 10 random integers between 101-1000 for the Y-axis.\n",
        "3. Create an array for 10 marker sizes `sizes` from 10 to 100 such that the difference between two consecutive numbers is 10.\n",
        "4. Create an array of 10 different colours `colors`. For example:\n",
        "```\n",
        "[\"red\",\"green\",\"blue\",\"yellow\",\"pink\",\"black\",\"orange\",\"purple\",\"magenta\",\"brown\"]\n",
        "```\n",
        "5. Plot the scatter plot with all four parameters `x`, `y`, `c`, and `s`.\n",
        "6. Display the graph."
      ]
    },
    {
      "cell_type": "code",
      "metadata": {
        "id": "lHrw68eos-lr",
        "colab": {
          "base_uri": "https://localhost:8080/",
          "height": 566
        },
        "outputId": "3892385c-dbae-496c-ebb9-c8243b1bf291"
      },
      "source": [
        "# Create a scatter plot where all markers will have different colors and are of different sizes.\n",
        "\n",
        "# Import the libraries\n",
        "import pandas as pd\n",
        "import numpy as np\n",
        "import matplotlib.pyplot as plt\n",
        "# Create arrays for x-axis, y-axis, colors\n",
        "x = np.random.randint(1,101,10)\n",
        "y = np.random.randint(101,1001,10)\n",
        "size = np.random.randint(10,101,10)\n",
        "colors = [\"red\",\"green\",\"blue\",\"yellow\",\"pink\",\"black\",\"orange\",\"purple\",\"magenta\",\"brown\"]\n",
        "# Print all the arrays\n",
        "print(x)\n",
        "print(y)\n",
        "print(size)\n",
        "print(colors)\n",
        "# Create the scatter plot\n",
        "plt.figure(figsize = (15,6))\n",
        "plt.scatter(x,y,size,colors)\n",
        "plt.show()"
      ],
      "execution_count": null,
      "outputs": [
        {
          "output_type": "stream",
          "name": "stdout",
          "text": [
            "[ 5 49  4 46 93 78 32  2 74  4]\n",
            "[235 275 669 819 377 549 925 306 402 560]\n",
            "[81 69 80 85 45 66 45 69 41 64]\n",
            "['red', 'green', 'blue', 'yellow', 'pink', 'black', 'orange', 'purple', 'magenta', 'brown']\n"
          ]
        },
        {
          "output_type": "display_data",
          "data": {
            "text/plain": [
              "<Figure size 1500x600 with 1 Axes>"
            ],
            "image/png": "[encoded data removed]"
          },
          "metadata": {}
        }
      ]
    },
    {
      "cell_type": "markdown",
      "metadata": {
        "id": "UHesPvYj-THu"
      },
      "source": [
        "**After this activity, a scatter plot should be created with 10 markers of different colours and different sizes.**"
      ]
    },
    {
      "cell_type": "markdown",
      "metadata": {
        "id": "UVCImzcq-jnt"
      },
      "source": [
        "----"
      ]
    },
    {
      "cell_type": "markdown",
      "metadata": {
        "id": "ESeRPEcQGvgg"
      },
      "source": [
        "#### Activity 2: Scatter Plot 2\n",
        "\n",
        "In this activity you have to create a scatter plot with 10 random numbers arrays at the x-axis and y-axis. And colour the marker with different shades from the rainbow palette using `cmap='rainbow'` by creating arrays.\n",
        "\n",
        "**Steps:**\n",
        "1. Create an array `x` of 10 random integers between 1-100 for the X-axis.\n",
        "2. Create an array `y` of 10 random integers between 101-1000 for the Y-axis.\n",
        "3. Create an array for 10 different shades of colour from 10 to 100 such that the difference between two consecutive numbers is 10.\n",
        "4. Plot the scatter plot with parameters `x`, `y`, `c`, and `cmap`.\n",
        "5. Display the colorbar.\n",
        "6. Display the graph."
      ]
    },
    {
      "cell_type": "code",
      "metadata": {
        "id": "JxW4fcCpHkux",
        "colab": {
          "base_uri": "https://localhost:8080/",
          "height": 548
        },
        "outputId": "9aea5eed-a5dc-4e6f-e7e7-272bd46a6f5b"
      },
      "source": [
        "# Create a scatter plot where all markers will have a different shade of colours from the rainbow palette\n",
        "\n",
        "# Create arrays for x-axis, y-axis, colors\n",
        "x = np.random.randint(1,101,10)\n",
        "y = np.random.randint(101,1001,10)\n",
        "color_shades = np.random.randint(10,101,10)\n",
        "# Print all the arrays\n",
        "print(x)\n",
        "print(y)\n",
        "print(color_shades)\n",
        "# Create the scatter plot\n",
        "plt.figure(figsize = (15,6))\n",
        "plt.scatter(x,y,cmap = 'rainbow',c = color_shades)\n",
        "plt.show()"
      ],
      "execution_count": null,
      "outputs": [
        {
          "output_type": "stream",
          "name": "stdout",
          "text": [
            "[32 21 66 54 40 52 56 23 11 71]\n",
            "[496 842 181 315 479 421 385 159 209 756]\n",
            "[51 59 40 55 27 88 69 26 90 24]\n"
          ]
        },
        {
          "output_type": "display_data",
          "data": {
            "text/plain": [
              "<Figure size 1500x600 with 1 Axes>"
            ],
            "image/png": "[encoded data removed]"
          },
          "metadata": {}
        }
      ]
    },
    {
      "cell_type": "markdown",
      "metadata": {
        "id": "eiVjZnWsLs2Q"
      },
      "source": [
        "**After this activity, a scatter plot should be created with 10 markers of 10 different colours using cmap. The color will show which marker has which color**"
      ]
    },
    {
      "cell_type": "markdown",
      "metadata": {
        "id": "Lnf-uXfZIvL6"
      },
      "source": [
        "---"
      ]
    },
    {
      "cell_type": "markdown",
      "metadata": {
        "id": "Ks2M_sAcIz1Q"
      },
      "source": [
        "#### Activity 3: Scatter Plot 3\n",
        "\n",
        "In this acitivity you have to create a scatter plot with 20 random numbers arrays at the x-axis and y-axis. Also, the 20 numbers will be divided into 4 labels `1`, `2`, `3`,  and `4` randomly. Add colour to the marker which will differentiate them according to the label. Add different shades from the dark palette using `cmap='Dark2'` by creating arrays.\n",
        "\n",
        "\n",
        "**Steps:**\n",
        "1. Create an array `x` of 20 random integers between 1-100 for the X-axis.\n",
        "2. Create an array `y` of 20 random integers between 101-1000 for the Y-axis.\n",
        "3. Create an array of 20 random integers for labels between range 1-4.\n",
        "4. Plot the scatter plot with parameters `x`, `y`, `c`, and `cmap`.\n",
        "5. Display the colorbar.\n"
      ]
    },
    {
      "cell_type": "code",
      "metadata": {
        "id": "39XvzushKHwP",
        "colab": {
          "base_uri": "https://localhost:8080/",
          "height": 597
        },
        "outputId": "48b0cc64-5b41-4b53-acb2-c35d5c3c7d64"
      },
      "source": [
        "# Create a scatter plot where all markers will have a different shade of colours from the rainbow palette\n",
        "\n",
        "# Create arrays for x-axis, y-axis, labels\n",
        "x = np.random.randint(1,101,20)\n",
        "y = np.random.randint(101,1001,20)\n",
        "labels = np.random.randint(1,5,20)\n",
        "# Print all the arrays\n",
        "print(x)\n",
        "print(y)\n",
        "print(labels)\n",
        "# Create the scatter plot\n",
        "plt.figure(figsize = (15,6))\n",
        "plt.scatter(x,y,cmap = 'Dark2',c = labels)\n",
        "plt.colorbar()\n",
        "plt.show()"
      ],
      "execution_count": null,
      "outputs": [
        {
          "output_type": "stream",
          "name": "stdout",
          "text": [
            "[81 92 42 57 11 20 44 13 39 46 84 58 56  1 62 10  2 86 99 31]\n",
            "[609 177 738 493 972 707 215 372 631 311 809 212 597 205 835 900 664 972\n",
            " 723 812]\n",
            "[2 3 1 1 4 3 1 3 1 4 4 1 4 4 3 2 2 1 1 3]\n"
          ]
        },
        {
          "output_type": "display_data",
          "data": {
            "text/plain": [
              "<Figure size 1500x600 with 2 Axes>"
            ],
            "image/png": "[encoded data removed]"
          },
          "metadata": {}
        }
      ]
    },
    {
      "cell_type": "markdown",
      "metadata": {
        "id": "R3HNrT_tM870"
      },
      "source": [
        "**After this activity, a scatter plot should be created with 10 markers of 4 different colours to reflect the labels using cmap where,**\n",
        "\n",
        "**1. Label `1`:  Green marker**\n",
        "\n",
        "**2. Label `2`:  Purple marker**\n",
        "\n",
        "**3. Label `3`:  Yellow marker**\n",
        "\n",
        "**4. Label `4`:  Black marker**"
      ]
    },
    {
      "cell_type": "markdown",
      "metadata": {
        "id": "K7hb--DbNJP2"
      },
      "source": [
        "---"
      ]
    },
    {
      "cell_type": "markdown",
      "metadata": {
        "id": "beh4YV1ec15L"
      },
      "source": [
        "### Submitting the Project\n",
        "\n",
        "1. After finishing the project, click on the **Share** button on the top right corner of the notebook. A new dialog box will appear.\n",
        "\n",
        "  <img src='https://student-datasets-bucket.s3.ap-south-1.amazonaws.com/images/project-share-images/2_share_button.png' width=500>\n",
        "\n",
        "2. In the dialog box, make sure that '**Anyone on the Internet with this link can view**' option is selected and then click on the **Copy link** button.\n",
        "\n",
        "   <img src='https://student-datasets-bucket.s3.ap-south-1.amazonaws.com/images/project-share-images/3_copy_link.png' width=500>\n",
        "\n",
        "3. The link of the duplicate copy (named as **YYYY-MM-DD_StudentName_Project84**) of the notebook will get copied.\n",
        "\n",
        "   <img src='https://student-datasets-bucket.s3.ap-south-1.amazonaws.com/images/project-share-images/4_copy_link_confirmation.png' width=500>\n",
        "\n",
        "4. Go to your dashboard and click on the **My Projects** option.\n",
        "   \n",
        "   <img src='https://student-datasets-bucket.s3.ap-south-1.amazonaws.com/images/project-share-images/5_student_dashboard.png' width=800>\n",
        "\n",
        "  <img src='https://student-datasets-bucket.s3.ap-south-1.amazonaws.com/images/project-share-images/6_my_projects.png' width=800>\n",
        "\n",
        "5. Click on the **View Project** button for the project you want to submit.\n",
        "\n",
        "   <img src='https://student-datasets-bucket.s3.ap-south-1.amazonaws.com/images/project-share-images/7_view_project.png' width=800>\n",
        "\n",
        "6. Click on the **Submit Project Here** button.\n",
        "\n",
        "   <img src='https://student-datasets-bucket.s3.ap-south-1.amazonaws.com/images/project-share-images/8_submit_project.png' width=800>\n",
        "\n",
        "7. Paste the link to the project file named as **YYYY-MM-DD_StudentName_Project84** in the URL box and then click on the **Submit** button.\n",
        "\n",
        "   <img src='https://student-datasets-bucket.s3.ap-south-1.amazonaws.com/images/project-share-images/9_enter_project_url.png' width=800>"
      ]
    },
    {
      "cell_type": "markdown",
      "metadata": {
        "id": "U8yhWDidv1d1"
      },
      "source": [
        "---"
      ]
    }
  ]
}